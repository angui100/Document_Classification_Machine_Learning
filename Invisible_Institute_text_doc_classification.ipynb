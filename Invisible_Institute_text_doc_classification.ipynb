{
  "nbformat": 4,
  "nbformat_minor": 0,
  "metadata": {
    "colab": {
      "name": "Untitled1.ipynb",
      "provenance": [],
      "collapsed_sections": [],
      "include_colab_link": true
    },
    "kernelspec": {
      "name": "python3",
      "display_name": "Python 3"
    }
  },
  "cells": [
    {
      "cell_type": "markdown",
      "metadata": {
        "id": "view-in-github",
        "colab_type": "text"
      },
      "source": [
        "<a href=\"https://colab.research.google.com/github/angui100/Document_Classification_Machine_Learning/blob/master/Invisible_Institute_text_doc_classification.ipynb\" target=\"_parent\"><img src=\"https://colab.research.google.com/assets/colab-badge.svg\" alt=\"Open In Colab\"/></a>"
      ]
    },
    {
      "cell_type": "code",
      "metadata": {
        "id": "Wt1OCUObcczn",
        "colab_type": "code",
        "outputId": "d4609564-a7f0-49ea-b06f-3de1aef08677",
        "colab": {
          "base_uri": "https://localhost:8080/",
          "height": 122
        }
      },
      "source": [
        "from google.colab import drive\n",
        "drive.mount('/content/drive')\n"
      ],
      "execution_count": 1,
      "outputs": [
        {
          "output_type": "stream",
          "text": [
            "Go to this URL in a browser: https://accounts.google.com/o/oauth2/auth?client_id=947318989803-6bn6qk8qdgf4n4g3pfee6491hc0brc4i.apps.googleusercontent.com&redirect_uri=urn%3Aietf%3Awg%3Aoauth%3A2.0%3Aoob&scope=email%20https%3A%2F%2Fwww.googleapis.com%2Fauth%2Fdocs.test%20https%3A%2F%2Fwww.googleapis.com%2Fauth%2Fdrive%20https%3A%2F%2Fwww.googleapis.com%2Fauth%2Fdrive.photos.readonly%20https%3A%2F%2Fwww.googleapis.com%2Fauth%2Fpeopleapi.readonly&response_type=code\n",
            "\n",
            "Enter your authorization code:\n",
            "··········\n",
            "Mounted at /content/drive\n"
          ],
          "name": "stdout"
        }
      ]
    },
    {
      "cell_type": "code",
      "metadata": {
        "id": "VgiC3NMUcwn2",
        "colab_type": "code",
        "outputId": "a6b3d920-ebf0-4c7c-8777-a209055edbc6",
        "colab": {
          "base_uri": "https://localhost:8080/",
          "height": 411
        }
      },
      "source": [
        "import pandas as pd\n",
        "import numpy as np\n",
        "\n",
        "root_path = '/content/drive/My Drive/invisible_institute/CPDP_documents_data_table.csv'\n",
        "\n",
        "data = pd.read_csv(root_path)\n",
        "\n",
        "#df = data[pd.notnull(data['text_content'])]\n",
        "#df.head(10)\n",
        "data.dropna(subset=['text_content'], inplace=True)\n",
        "data.tail()"
      ],
      "execution_count": 2,
      "outputs": [
        {
          "output_type": "execute_result",
          "data": {
            "text/html": [
              "<div>\n",
              "<style scoped>\n",
              "    .dataframe tbody tr th:only-of-type {\n",
              "        vertical-align: middle;\n",
              "    }\n",
              "\n",
              "    .dataframe tbody tr th {\n",
              "        vertical-align: top;\n",
              "    }\n",
              "\n",
              "    .dataframe thead th {\n",
              "        text-align: right;\n",
              "    }\n",
              "</style>\n",
              "<table border=\"1\" class=\"dataframe\">\n",
              "  <thead>\n",
              "    <tr style=\"text-align: right;\">\n",
              "      <th></th>\n",
              "      <th>allegation_id</th>\n",
              "      <th>title</th>\n",
              "      <th>text_content</th>\n",
              "      <th>url</th>\n",
              "      <th>pages</th>\n",
              "      <th>incident_date</th>\n",
              "      <th>most_common_category_id</th>\n",
              "      <th>category</th>\n",
              "      <th>allegation_name</th>\n",
              "      <th>coaccused_count</th>\n",
              "      <th>tag</th>\n",
              "      <th>source_type</th>\n",
              "    </tr>\n",
              "  </thead>\n",
              "  <tbody>\n",
              "    <tr>\n",
              "      <th>1803</th>\n",
              "      <td>1000436</td>\n",
              "      <td>CRID 1000436 CR</td>\n",
              "      <td>REPORT DIGEST LOG NO. TYPE DATE OF REPORT \\nCH...</td>\n",
              "      <td>https://assets.documentcloud.org/documents/476...</td>\n",
              "      <td>9</td>\n",
              "      <td>2006-04-21T00:00:00Z</td>\n",
              "      <td>202</td>\n",
              "      <td>Operation/Personnel Violations</td>\n",
              "      <td>Eeo Investigations</td>\n",
              "      <td>2</td>\n",
              "      <td>CR</td>\n",
              "      <td>DOCUMENTCLOUD</td>\n",
              "    </tr>\n",
              "    <tr>\n",
              "      <th>1804</th>\n",
              "      <td>1000417</td>\n",
              "      <td>CRID 1000417 CR</td>\n",
              "      <td>COMMAND CHANNEL REVIEW\\nCOMPLAINT REGISTER INV...</td>\n",
              "      <td>https://assets.documentcloud.org/documents/457...</td>\n",
              "      <td>70</td>\n",
              "      <td>2006-10-06T00:00:00Z</td>\n",
              "      <td>72</td>\n",
              "      <td>False Arrest</td>\n",
              "      <td>Illegal Arrest / False Arrest</td>\n",
              "      <td>2</td>\n",
              "      <td>CR</td>\n",
              "      <td>DOCUMENTCLOUD</td>\n",
              "    </tr>\n",
              "    <tr>\n",
              "      <th>1805</th>\n",
              "      <td>1000301</td>\n",
              "      <td>CRID 1000301 CR</td>\n",
              "      <td>7/18/2018\\nView Incident\\nPrint   Logout   Hel...</td>\n",
              "      <td>https://assets.documentcloud.org/documents/476...</td>\n",
              "      <td>23</td>\n",
              "      <td>2006-10-07T00:00:00Z</td>\n",
              "      <td>194</td>\n",
              "      <td>Operation/Personnel Violations</td>\n",
              "      <td>Neglect Of Duty</td>\n",
              "      <td>2</td>\n",
              "      <td>CR</td>\n",
              "      <td>DOCUMENTCLOUD</td>\n",
              "    </tr>\n",
              "    <tr>\n",
              "      <th>1806</th>\n",
              "      <td>1000227</td>\n",
              "      <td>CRID 1000227 CR (Discovery)</td>\n",
              "      <td>1000227\\nCOMMAND CHANNEL REVIEW-SUSTAINED CASE...</td>\n",
              "      <td>https://assets.documentcloud.org/documents/522...</td>\n",
              "      <td>104</td>\n",
              "      <td>2006-05-22T00:00:00Z</td>\n",
              "      <td>199</td>\n",
              "      <td>Operation/Personnel Violations</td>\n",
              "      <td>Misuse Of Department Equipment / Supplies</td>\n",
              "      <td>9</td>\n",
              "      <td>CR</td>\n",
              "      <td>DOCUMENTCLOUD</td>\n",
              "    </tr>\n",
              "    <tr>\n",
              "      <th>1807</th>\n",
              "      <td>1000201</td>\n",
              "      <td>CRID 1000201 CR</td>\n",
              "      <td>7/27/2018\\nView Incident\\nPrint   Logout   Hel...</td>\n",
              "      <td>https://assets.documentcloud.org/documents/476...</td>\n",
              "      <td>4</td>\n",
              "      <td>2006-10-03T00:00:00Z</td>\n",
              "      <td>109</td>\n",
              "      <td>Use Of Force</td>\n",
              "      <td>Unnecessary Physical Contact / On Duty - No In...</td>\n",
              "      <td>1</td>\n",
              "      <td>CR</td>\n",
              "      <td>DOCUMENTCLOUD</td>\n",
              "    </tr>\n",
              "  </tbody>\n",
              "</table>\n",
              "</div>"
            ],
            "text/plain": [
              "      allegation_id                        title  ... tag    source_type\n",
              "1803        1000436              CRID 1000436 CR  ...  CR  DOCUMENTCLOUD\n",
              "1804        1000417              CRID 1000417 CR  ...  CR  DOCUMENTCLOUD\n",
              "1805        1000301              CRID 1000301 CR  ...  CR  DOCUMENTCLOUD\n",
              "1806        1000227  CRID 1000227 CR (Discovery)  ...  CR  DOCUMENTCLOUD\n",
              "1807        1000201              CRID 1000201 CR  ...  CR  DOCUMENTCLOUD\n",
              "\n",
              "[5 rows x 12 columns]"
            ]
          },
          "metadata": {
            "tags": []
          },
          "execution_count": 2
        }
      ]
    },
    {
      "cell_type": "code",
      "metadata": {
        "id": "YOkHDaONWIUd",
        "colab_type": "code",
        "outputId": "98c0956a-d45a-4a65-8d9a-7fb0122e50df",
        "colab": {
          "base_uri": "https://localhost:8080/",
          "height": 34
        }
      },
      "source": [
        "data.tag.unique()"
      ],
      "execution_count": 3,
      "outputs": [
        {
          "output_type": "execute_result",
          "data": {
            "text/plain": [
              "array(['CR', 'CPB'], dtype=object)"
            ]
          },
          "metadata": {
            "tags": []
          },
          "execution_count": 3
        }
      ]
    },
    {
      "cell_type": "code",
      "metadata": {
        "id": "xIBk3i1NXFeW",
        "colab_type": "code",
        "outputId": "90c9bc1e-ccb9-478a-edc4-d7f5ab6514c9",
        "colab": {
          "base_uri": "https://localhost:8080/",
          "height": 54
        }
      },
      "source": [
        "data.loc[1807,\"text_content\"]"
      ],
      "execution_count": 0,
      "outputs": [
        {
          "output_type": "execute_result",
          "data": {
            "text/plain": [
              "'7/27/2018\\nView Incident\\nPrint   Logout   Help\\nView Incident\\nHome » Administrative Investigations IAD/COPA » View Incident\\nPrint Face Sheet\\nPrint Current Case Summary\\n< Return\\nInvestigation\\nReporting Category\\nCategory\\nSubcategory Situation\\nVictim/Offender Weapon\\nArmed?\\nTypes\\nWeapon\\nOther\\nWeapon\\nDeceased?\\nRecovered?\\n05M UNNECESSARY PHYSICAL CONTACT / ON\\nDUTY - NO INJURY\\n-\\n-\\n-\\n-\\n-\\n-\\n-\\nrow(s) 1 - 1 of 1\\nLog No: 1000201 Type:CR\\nAccused Members\\nReview Name\\n-\\nVOIGHT,\\nWILLIAM\\nStatus\\nAccused Overall\\nFinding\\nCLOSED/FINAL UNFOUNDED\\nRecommended\\nPenalty\\nNo. of\\nDays\\nDate/Time\\nServed\\n-\\n-\\n-\\nCreated\\nDate\\n03-OCT2006\\nComplimentary\\nHistory\\nN/A\\nrow(s) 1 - 1 of 1\\nAttachments\\nNo. Type\\nRelated No. of\\nNarrative\\nPerson Pages\\nStatus\\nApprove Approve\\nContent? Inclusion?\\n1\\nFACE SHEET\\nN/A\\n-\\n-\\n-\\n-\\n2\\nCONFLICT CERTIFICATION\\nN/A\\n-\\n-\\n-\\n-\\n3\\nCONFLICT CERTIFICATION\\nN/A\\n-\\n-\\n-\\n-\\n4\\nRAPID RESPONSE\\nINVESTIGATION REPORT\\nN/A\\n1\\n5\\nCOMPLAINANT STATEMENT\\nN/A\\n2\\n6\\nRAPID RESPONSE\\nINVESTIGATION REPORT\\nN/A\\n1\\n7\\nSWORN AFFIDAVIT FROM\\nCOMPLAINANT\\nN/A\\n1\\n8\\nADDITIONAL INFORMATION\\nN/A\\n1\\n9\\nINTERVIEW - WITNESS\\nN/A\\n1\\n10 ADDITIONAL INFORMATION\\nN/A\\n2\\n11 TRAFFIC CITATION\\nN/A\\n2\\nREQUEST FOR\\nN/A\\nINTERVIEW/STATEMENT/REPORT\\n2\\n12\\n13 NOTIF OF\\nCHARGES/ALLEGATIONS - ADM\\nN/A\\n1\\nOriginal\\nEntered\\nEntered By\\nin File\\nDate/Time\\nOCT-03WHITE,\\n2006\\nLAKENYA\\n16:29\\nOCT-05CONNOLLY,\\n2006\\nKEVIN\\n11:27\\nOCT-05WILLIAMS,\\n2006\\nTIFFANY\\n11:37\\nDEC-13WILLIAMS,\\nYES\\n2006\\nTIFFANY\\n12:41\\nDEC-13WILLIAMS,\\nYES\\n2006\\nTIFFANY\\n12:42\\nDEC-13WILLIAMS,\\nYES\\n2006\\nTIFFANY\\n12:43\\nDEC-13WILLIAMS,\\nYES\\n2006\\nTIFFANY\\n12:43\\nDEC-13Complainant\\nWILLIAMS,\\nYES\\n2006\\nidentifications\\nTIFFANY\\n12:46\\nDEC-13WILLIAMS,\\nYES\\n2006\\nTIFFANY\\n12:48\\nDEC-13traffic\\nWILLIAMS,\\nYES\\n2006\\ncitations\\nTIFFANY\\n12:49\\nJAN-26WILLIAMS,\\nYES\\n2007\\nTIFFANY\\n14:53\\nDEC-13WILLIAMS,\\nYES\\n2006\\nTIFFANY\\n12:51\\nYES\\nWILLIAMS, DEC-13TIFFANY\\n2006\\nAPPROVED NO\\nYES\\nAPPROVED NO\\nYES\\nAPPROVED NO\\nYES\\nAPPROVED NO\\nYES\\nAPPROVED NO\\nYES\\nAPPROVED NO\\nYES\\nAPPROVED NO\\nYES\\nAPPROVED NO\\nYES\\nAPPROVED NO\\nYES\\nAPPROVED NO\\nYES\\nhttp://chris.chicagopolice.org/pls/clear/f?p=15280:10:2429742813943638:VIEW:NO::F15280_MODE,CR_ID,P10_RETURN_URL:VIEW_SUP,40968,f…\\n1/2\\n7/27/2018\\nView Incident\\nPROC RIGHTS (STATUTORY)\\n14\\nWAIVER OF COUNSEL/REQUEST\\nN/A\\nTO SECURE COUNSEL\\n1\\n-\\nYES\\nWILLIAMS,\\nTIFFANY\\n15 ACCUSED REPORT\\nN/A\\n2\\n-\\nYES\\nWILLIAMS,\\nTIFFANY\\n16 INVESTIGATOR CASE LOG\\nN/A\\n1\\nsequence of\\nnumbers\\nYES\\nchanged\\nWILLIAMS,\\nTIFFANY\\n17 OBSERVATION OF INJURIES\\nN/A\\n2\\n-\\nYES\\nWILLIAMS,\\nTIFFANY\\n18\\nATTENDANCE AND ASSIGNMENT\\nN/A\\nRECORD\\n23\\n-\\nYES\\nWILLIAMS,\\nTIFFANY\\n19\\nREQUEST FOR\\nN/A\\nINTERVIEW/STATEMENT/REPORT\\n1\\n-\\nYES\\nWILLIAMS,\\nTIFFANY\\n20 ACCUSED REPORT\\nN/A\\n2\\n-\\nYES\\nWILLIAMS,\\nTIFFANY\\n21 WITNESS REPORT\\nN/A\\n1\\n-\\nYES\\nWILLIAMS,\\nTIFFANY\\n22 INVESTIGATOR CASE LOG\\nN/A\\n2\\n-\\nYES\\nWILLIAMS,\\nTIFFANY\\n23 SUMMARY REPORT\\nN/A\\n2\\n-\\nYES\\nWILLIAMS,\\nTIFFANY\\n12:52\\nDEC-132006\\n12:52\\nDEC-132006\\n12:53\\nDEC-132006\\n12:54\\nDEC-132006\\n12:50\\nAPR-102007\\n11:24\\nAPR-102007\\n11:25\\nJAN-262007\\n14:55\\nAPR-102007\\n11:27\\nAPR-102007\\n11:28\\nDEC-132006\\n12:55\\nAPPROVED NO\\nYES\\nAPPROVED NO\\nYES\\nAPPROVED NO\\nYES\\nAPPROVED NO\\nYES\\nAPPROVED NO\\nYES\\nAPPROVED NO\\nYES\\nAPPROVED NO\\nYES\\nAPPROVED NO\\nYES\\nAPPROVED NO\\nYES\\nAPPROVED NO\\nYES\\nrow(s) 1 - 23 of 23\\nInternal Use Only\\nNo Internal Use Only attachments available.\\nPrint Accused Appeal Forms\\nNo Accused Appeal forms available for this Log No.\\nRelated Incidents\\nTIP Related Incidents listed below are for reference only. These may be viewed using the related application search screens.\\nNo Related Incidents associated with this Log No.\\nStatus History\\nTIP Every employee included in the Status History is subject to be called for legal or administrative proceedings.\\nResulting Status\\nStatus Date/Time\\nCLOSED AT C.O.P.A.\\nCLOSED/FINAL\\nPENDING INVESTIGATION\\nPENDING ASSIGN INVESTIGATOR\\nPENDING ASSIGN TEAM\\nPRELIMINARY\\n01-JAN-9999 01:01\\n24-OCT-2007 08:37\\n05-OCT-2006 11:27\\n04-OCT-2006 10:49\\n03-OCT-2006 16:39\\n03-OCT-2006 16:29\\nAssigned/\\nEmployee No. Detailed\\nUnit\\nCHRIS, SYSTEM\\nCHIEF DATA BASE ANAL\\n125 / PRITZA, MARILYN\\nPOLICE OFFICER\\n005 / 113\\nCONNOLLY, KEVIN\\nINVESTIGATOR 3 COPA\\n113 / DUFFY, MICHAEL\\nCOOR /INVESTIGATIONS\\n113 / GOLDSTON, MICHAEL INVESTIGATOR 3 COPA\\n113 / WHITE, LAKENYA\\nINTAKE AIDE\\n113 / Created By\\nPosition\\nComments\\n-\\nrow(s) 1 - 6 of 6\\nCommand Channel Reviewers\\nNo Command Channel Reviewers have been assigned.\\nUser:\\nModule: 15280 $Revision: 1.252 $\\nCopyright © 2002, All rights reserved.\\nhttp://chris.chicagopolice.org/pls/clear/f?p=15280:10:2429742813943638:VIEW:NO::F15280_MODE,CR_ID,P10_RETURN_URL:VIEW_SUP,40968,f…\\n2/2\\nSUMMARY REPORT DIGESTCOMPLAINT REGISTER INVESTIGATION NO.:\\nCHICAGO POLICE DEPARTMENT\\nDATE OF REPORT (DAY-MO.-YEAR)\\n1000201\\n12 December 2006\\nTo be used in all cases that are to be classified as either EXONERATED, UNFOUNDED, NOT SUSTAINED cases where\\nthe Disciplinary Recommendation does not exceed FIVE (5) DAYS SUSPENSION.\\nSUBMIT ORIGINAL AND 3 COPIES IF ASSIGNED TO SAME UNIT AS ACCUSED.\\nSUBMIT ORIGINAL AND 4 COPIES IF NOT ASSIGNED TO SAME UNIT AS ACCUSED.\\nTO:\\nSUPERINTENDENT OF POLICE\\nATTENTION\\n[x] ADMINISTRATOR IN CHARGE, OFFICE OF PROFESSIONAL STANDARDS\\n[] ASSISTANT DEPUTY SUPERINTENDENT, INTERNAL AFFAIRS DIVISION\\nFROM - INVESTIGATOR\\'S NAME\\nRANK\\nWILLIAMS, Tiffany\\nInv\\nADDRESS OF INCIDENT\\nCorliss Ave.\\nNAME\\nACCUSED\\n1.\\nVOIGHT, William\\nSTAR NO.\\nEMPLOYEE NO.\\nUNIT ASSIGN.\\nDATE OF INCIDENT - TIME\\nBEAT OF INCIDENT\\nLOCATION CODE\\n241\\n113\\n03 October 2006 0930\\n512\\nRANK\\nSTAR NO.\\nEMPLOYEE NO.\\nSgt.\\n2166\\n17\\nUNIT ASSIGN.\\n005\\n2.\\nSEX/RACE\\n1.\\nM/W\\nD.O.B.\\nDATE OF APPOINTMENT\\n13 Nov 68\\n29 Sept 03\\n2.\\nIF APPLICABLE - DATE ARRESTED/INDICATED\\n1.\\nDUTY STATUS (TIME OF INCIDENT)\\n[x] ON DUTY\\n[ ] OFF DUTY\\n[x] SWORN\\n[ ] CIVILIAN\\n[x] ON DUTY\\n[] SWORN\\n[ ] CIVILIAN\\n[ ] OFF DUTY\\nCHARGES\\nCOURT BRANCH\\nDISPOSITION & DATE\\nTELEPHONE\\nSEX/RACE\\nPHYS.\\nCOND..\\nCODE\\n01\\nWITNESSES\\nVICTIMS\\nCOMPLAINANTS\\n2\\nNAME\\nADDRESS**\\nCITY\\nSTATE\\nCregier Chgo IL 60617\\nNAME\\nADDRESS**\\nNAME\\nADDRESS**\\nMorgan\\nD.O.B../AGE\\nPHYS.\\nCOND.\\nCODE\\nM/B\\nCITY\\nSTATE\\nTELEPHONE\\nSEX/RACE\\nD.O.B../AGE\\nPHYS.\\nCOND.\\nCODE\\nCITY\\nSTATE\\nTELEPHONE\\nSEX/RACE\\nD.O.B../AGE\\nPHYS.\\nCOND.\\nCODE\\nChgo, Il 60621\\nM/B\\n01\\n01\\nALLEGATIONS\\n[ ] SEE ATTACHED SHEET FOR ADDITIONAL ACCUSED, COMPLAINANTS, VICTIMS, WITNESSES.\\nOn 03 October 2006, at approximately 1629 hours, the complainant,\\ntelephoned the\\nOffice of Professional Standards and registered a complaint with Intake Aide, White.\\nalleged\\nthat on 03 October 2006, at approximately 0930 hours, in the vicinity of 10300 S. Corliss, Sgt. Voight,\\n# 2166: 1) threatened to tazer him, 2) grabbed him by his neck and pushed him against a squad car,\\nand 3) directed profanities at him.\\nI.A.D. LOCATION CODES*\\n01 Food Sales/Restaurant\\n02 Tavern/Liquor Store\\n03 Other Business Establishment\\n04 Police Building\\n05 Lockup Facility\\n06 Police Maintenance Facility\\n07 CPD Automotive Pound Facility\\n08 Other Police Property\\n09 Police Communications System\\n10 Court Room\\n11\\n12\\n13\\n14\\n15\\n16\\n17\\n18\\n19\\nPublic Transportation Veh./Facility\\nPark District Property\\nAirport\\nPublic Property - Other\\nOther Private Premise\\nExpressway/Interstate System\\nPublic Way - Other\\nWaterway, Incl. Park District\\nPrivate Residence\\nI.A.D. PHYSICAL CONDITION CODES\\n01 No Visible Injury - Apparently Normal\\n02 No Visible Injury - Under Influence\\n03 Injured, Not Hospitalized\\n04 Injured, Not Hospitalized - Under Influence\\n05 Injured, Hospitalized\\n06 Injured, Hospitalized - Under Influence\\n07 Injured, Refused Medical Aid\\n08 Injured, Refused Medical Aid - Under Influence\\n09 Deceased\\n10 Deceased - Under Influence\\n** IF CPD MEMBER, LIST RANK, STAR, SOCIAL SECURITY, EMPLOYEE NOS. IN ADDRESS BOX, PAX/BELL IN TELEPHONE BOX.\\nC.R. NO.\\nCPD-44.112a (1/84)\\n1000201\\nBriefly summarize the investigation describing your efforts to prove or disprove the allegation(s). Indicate whether witnesses or evidence support or do not\\nsupport the allegations(s). In sustained cases ONLY, copies of the accused member=s Summary of Previous Disciplinary Actions and Record of Previous\\nComplimentary History will be included as attachments.\\nThis incident involves a citizen who alleged maltreatment by Sgt. Voight during the course of his arrest.\\nThe following investigative steps were taken.\\nS\\nU\\nM\\nM\\nA\\nR\\nY\\nObtained an in-person statement from the complainant,\\nwho related that en route to work he was ordered to\\npull his car over by a M/W sergeant.\\ncomplied, exited his vehicle and asked the sergeant what the problem was.\\nrelated that he was ordered back into his vehicle and ordered to produce his license and insurance.\\nfurther\\nrelated that he and his friend, “Man” were then ordered out of the car and the sergeant threatened to tazer\\nwas then handcuffed too tightly, taken to the station where he was issued three citations and released on an I-bond.\\nrelated that he had numbness to his hand but sought no medical treatment. (Att. 5)\\nObtained in-person statement from witness,\\nrelated that he and\\npassed through a seatbelt check\\nand on their return route were told to pull over by Sgt. Voight.\\nrelated that Sgt. Voight ordered them from the car and\\nhe referred to the sergeant as an “officer” and Sgt. Voight directed profanities toward him as he corrected him regarding his\\ntitle.\\nfurther related that Sgt. Voight grabbed\\nby the neck, pushed him against he car and handcuffed him. As\\nthis occurred\\ntold the sergeant that he was hurting him. (Att 9)\\nObtained copies of citations issued at time of arrest. (Att 10-10A)\\nObtained a To/From form accused, Sgt. Voight. Sgt. Voight related that the complainant was stopped during a seatbelt\\nmission for not wearing a seatbelt. The complainant was uncooperative and did not follow the Sergeant’s verbal directions,\\nhence the Sergeant informed\\nthat if he did not comply with directions the tazer would be used. Sgt. Voight denied all\\nall allegations made by the complainant. (Att 15)\\nA\\nT\\nT\\nA\\nC\\nH\\nM\\nE\\nN\\nA\\nL\\nCONCLUSION:\\nThe Reporting Investigator recommends a finding of Exonerated for allegation number one. The complainant/arrestee\\nfailed to follow Sgt. Voight’s verbal directions. The Sergeant’s actions were reasonable based upon the arrestee’s behavior.\\nThe R/I further recommends a finding of Unfounded for allegations number two and three, based on the conflicting accounts\\nof the witness and the complainant it is believed that the incident did not occur as alleged. The complainant failed to make\\nthese specific allegations that were alleged by\\nwhen giving an in-person, authenticated statement.\\nINVESTIGATIVE REPORTSSUPPORTING ALLEGATION\\nLIST ATTACHMENT NUMBERS:\\nFINDINGS-RECOMMENDATIONS\\n1\\nINVESTIGATIVE REPORTSSUPPORTING ACCUSED MEMBER(S)\\nLIST ATTACHMENT NUMBERS:\\n15\\nPHYSICAL EVIDENCE\\nLIST ATTACHMENT NUMBERS:\\nTOTAL NUMBER OF ATTACHMENTS\\nSUBMITTED WITH THIS FILE:\\n0\\n16\\nSummarize the findings and recommendations. Rule violations will be cited by number only. One overall recommendation for Disciplinary Action will be\\nmade by the investigator. The recommendation will be for ALL sustained findings; recommendations will NOT be made for each sustained allegation.\\nExample: 1. Violation noted, no disciplinary action warranted. 2. That the accused member be reprimanded. 3. That the accused member be suspended\\nfor .... days (not to exceed 5 days).\\nFINDINGS:\\nAccused #1\\nAllegations #1\\n#2-3\\nSgt. Willliam Voight, # 2166, Unit 005\\nExonerated\\nUnfounded\\nApproved\\n______________________________\\nOPS Supervisor\\nDATE INITIATED (DATE COMPLAINT WAS\\nRECEIVED FOR INVESTIATION)\\n05 October 2006\\nLog # 1000201\\nDATE COMPLETED (DATE OF THIS REPORT)\\n30 November 2006\\nInvestigator will initiate the Command Channel Review\\nfor by completing the Investigators Section.\\nELAPSED TIME (TOTAL TIME, EXPRESSED IN DAYS)\\n56 days\\nINVESTIGATORS SIGNATURE\\nIF NECESSARY, USE AN 82 X 11\" SHEET OF WHITE PAPER TO CONTINUE ANY ITEM'"
            ]
          },
          "metadata": {
            "tags": []
          },
          "execution_count": 21
        }
      ]
    },
    {
      "cell_type": "code",
      "metadata": {
        "id": "Mz5aX55Te9yQ",
        "colab_type": "code",
        "colab": {
          "base_uri": "https://localhost:8080/",
          "height": 68
        },
        "outputId": "dd15066b-8771-4cbd-a1da-267d9486e209"
      },
      "source": [
        "#data.isna().sum();\n",
        "#data.describe()\n",
        "#data.sum()\n",
        "data.tag.value_counts()"
      ],
      "execution_count": 8,
      "outputs": [
        {
          "output_type": "execute_result",
          "data": {
            "text/plain": [
              "CR     1235\n",
              "CPB     120\n",
              "Name: tag, dtype: int64"
            ]
          },
          "metadata": {
            "tags": []
          },
          "execution_count": 8
        }
      ]
    },
    {
      "cell_type": "code",
      "metadata": {
        "id": "APE0WmkEdKrP",
        "colab_type": "code",
        "outputId": "93134fef-dac3-4b7e-bcf5-d74e634b2982",
        "colab": {
          "base_uri": "https://localhost:8080/",
          "height": 204
        }
      },
      "source": [
        "#reconciled_data = data[[\"title\", 'text_content', 'most_common_category_id', 'category']]\n",
        "reconciled_data = data[['tag', 'text_content']]\n",
        "reconciled_data.head()"
      ],
      "execution_count": 0,
      "outputs": [
        {
          "output_type": "execute_result",
          "data": {
            "text/html": [
              "<div>\n",
              "<style scoped>\n",
              "    .dataframe tbody tr th:only-of-type {\n",
              "        vertical-align: middle;\n",
              "    }\n",
              "\n",
              "    .dataframe tbody tr th {\n",
              "        vertical-align: top;\n",
              "    }\n",
              "\n",
              "    .dataframe thead th {\n",
              "        text-align: right;\n",
              "    }\n",
              "</style>\n",
              "<table border=\"1\" class=\"dataframe\">\n",
              "  <thead>\n",
              "    <tr style=\"text-align: right;\">\n",
              "      <th></th>\n",
              "      <th>tag</th>\n",
              "      <th>text_content</th>\n",
              "    </tr>\n",
              "  </thead>\n",
              "  <tbody>\n",
              "    <tr>\n",
              "      <th>1</th>\n",
              "      <td>CR</td>\n",
              "      <td>SUMMARY REPORT DIGEST-\\nCOMPLAINT REGISTER INV...</td>\n",
              "    </tr>\n",
              "    <tr>\n",
              "      <th>3</th>\n",
              "      <td>CR</td>\n",
              "      <td>COMMAND CHANNEL REVIEW\\nA Sasso\\nEmp 14982\\nNW...</td>\n",
              "    </tr>\n",
              "    <tr>\n",
              "      <th>6</th>\n",
              "      <td>CR</td>\n",
              "      <td>SUMMARY REPORT DIGEST-\\nCOMPLAINT REGISTER INV...</td>\n",
              "    </tr>\n",
              "    <tr>\n",
              "      <th>8</th>\n",
              "      <td>CR</td>\n",
              "      <td>SUMMARY REPORT DIGEST- DATE OF REPORTIDAY-MO.-...</td>\n",
              "    </tr>\n",
              "    <tr>\n",
              "      <th>12</th>\n",
              "      <td>CR</td>\n",
              "      <td>SUM MARY REPORT I DATE OF REPORT IDAY-MO \\nCOM...</td>\n",
              "    </tr>\n",
              "  </tbody>\n",
              "</table>\n",
              "</div>"
            ],
            "text/plain": [
              "   tag                                       text_content\n",
              "1   CR  SUMMARY REPORT DIGEST-\\nCOMPLAINT REGISTER INV...\n",
              "3   CR  COMMAND CHANNEL REVIEW\\nA Sasso\\nEmp 14982\\nNW...\n",
              "6   CR  SUMMARY REPORT DIGEST-\\nCOMPLAINT REGISTER INV...\n",
              "8   CR  SUMMARY REPORT DIGEST- DATE OF REPORTIDAY-MO.-...\n",
              "12  CR  SUM MARY REPORT I DATE OF REPORT IDAY-MO \\nCOM..."
            ]
          },
          "metadata": {
            "tags": []
          },
          "execution_count": 23
        }
      ]
    },
    {
      "cell_type": "code",
      "metadata": {
        "id": "6R1lfd6FH8Je",
        "colab_type": "code",
        "colab": {}
      },
      "source": [
        "#df_CPB = data[(data[\"tag\"] == 'CPB')]\n",
        "#df_CPB.head()"
      ],
      "execution_count": 0,
      "outputs": []
    },
    {
      "cell_type": "code",
      "metadata": {
        "id": "CAXD-3c3IZRk",
        "colab_type": "code",
        "colab": {}
      },
      "source": [
        "#df_CPB.sum()"
      ],
      "execution_count": 0,
      "outputs": []
    },
    {
      "cell_type": "code",
      "metadata": {
        "id": "q0ZmU2XZf9kQ",
        "colab_type": "code",
        "colab": {}
      },
      "source": [
        "#reconciled_data.isna().sum()"
      ],
      "execution_count": 0,
      "outputs": []
    },
    {
      "cell_type": "code",
      "metadata": {
        "id": "y8ALiMDGg4gb",
        "colab_type": "code",
        "colab": {}
      },
      "source": [
        "#data.isnull().sum()"
      ],
      "execution_count": 0,
      "outputs": []
    },
    {
      "cell_type": "code",
      "metadata": {
        "id": "YQ9TAqVkWcCx",
        "colab_type": "code",
        "colab": {}
      },
      "source": [
        "from numpy import random\n",
        "import gensim\n",
        "import nltk\n",
        "from sklearn.model_selection import train_test_split\n",
        "from sklearn.feature_extraction.text import CountVectorizer, TfidfVectorizer\n",
        "from sklearn.metrics import accuracy_score, confusion_matrix\n",
        "import matplotlib.pyplot as plt\n",
        "from nltk.corpus import stopwords\n",
        "import re"
      ],
      "execution_count": 0,
      "outputs": []
    },
    {
      "cell_type": "code",
      "metadata": {
        "id": "El0dfSeAW_EH",
        "colab_type": "code",
        "outputId": "bfe528bf-af7e-4686-a36d-7f62a5a4b64d",
        "colab": {
          "base_uri": "https://localhost:8080/",
          "height": 34
        }
      },
      "source": [
        "#Total counts of words in example data\n",
        "data['text_content'].apply(lambda x: len(x.split(' '))).sum()"
      ],
      "execution_count": 0,
      "outputs": [
        {
          "output_type": "execute_result",
          "data": {
            "text/plain": [
              "3584648"
            ]
          },
          "metadata": {
            "tags": []
          },
          "execution_count": 53
        }
      ]
    },
    {
      "cell_type": "code",
      "metadata": {
        "id": "Yvk1rGEJXUsf",
        "colab_type": "code",
        "colab": {}
      },
      "source": [
        "def print_plot(index):\n",
        "    text = data[data.index == index][['text_content', 'tag']].values[0]\n",
        "    if len(text) > 0:\n",
        "        print(text[0])\n",
        "        print('Tag:', text[1])"
      ],
      "execution_count": 0,
      "outputs": []
    },
    {
      "cell_type": "code",
      "metadata": {
        "id": "RK7qpwnIX5oX",
        "colab_type": "code",
        "outputId": "bb403c1b-ae04-4ecc-c99b-b3f5bd8c7b9f",
        "colab": {
          "base_uri": "https://localhost:8080/",
          "height": 1000
        }
      },
      "source": [
        "print_plot(12)"
      ],
      "execution_count": 0,
      "outputs": [
        {
          "output_type": "stream",
          "text": [
            "SUM MARY REPORT I DATE OF REPORT IDAY-MO \n",
            "COMPLAINT REGISTER INVESTIGATION NO: _313931 '10 October 2008\n",
            "CHICAGO POLICE DEPARTMENT \n",
            "To be used in all cases that are to be clasSliled as either EXONERATED. UNFOUNDED. NOT SUSTAINED cases where\n",
            "the \n",
            "Inary Recommendation does notexcead FIVE (5) DAYS SUSPENSION.\n",
            "SUBMIT ORIGINAL AND 3 COPIES IF ASSIGNED TO SAME UNIT AS ACCUSED\n",
            "SUBMIT ORIGINAL AND 4 COPIES IF NOT ASSIGNED T0 SAME UNIT AS ACCUSED\n",
            "TO: SUPERINTENDENT OF POLICE\n",
            "ATTENTION ADMINISTRATOR IN CHARGE. OFFICE OF PROFESSIONAL STANDARDS\n",
            "ASSISTANT DEPUTY SUPERINTENDENT. INTERNAL AFFAIRS DIVISION\n",
            "RANK STAR NO. SOCIAL SEC. No .Irnr'II'moN I\n",
            "VazqueZ. Aurora lnv. 249 1 13 \n",
            "IIHI DATE I \n",
            "01 July 06. 1445 hrs. 222 17\n",
            "NM ?nmx STAR NU. SOCIAL SEC.NO. 'imir ASSIGI-I \n",
            "i Cabrales. Miguel PO 10719 002 \n",
            "2 \n",
            "DATE OF APPOINTMENT DUTY STATUS (TIME OF INCIDENTI In] SWORN 133;;\n",
            "1 14 DEC 98 DUTY OFF DUTY CIVILIAN CODE 01\n",
            "0 [1 ON DUTY [l DUTY tl swarm \n",
            "1? 3- ll CIVILIAN\n",
            "0W . - CHARGES COURT BRANCH rmTE \n",
            "2\n",
            "a; T- crr?r SMIE TELEPHONE #61\"\n",
            "67 cor-IF.\n",
            "_l \n",
            "_o .\n",
            "CITY STATE TELEPHONE SEXJRAGE DOB TEEN: \n",
            "rocE\n",
            "5\n",
            "CITY STATE SEXIRACE 1' a. 17.7. \n",
            "5: cono\n",
            "24a EDOE\n",
            "-\n",
            "SEE ATTACHED SHEET FOR ADD\n",
            "A1 .LEGATIONS\n",
            "On 01 July 06, at 1725 hours. Sgt. Etna - . lotion-honed the Ollico of Prom-Iaiunal and registered this\n",
            "complaint on behalf of the Nile. Lisa Iousanl emp II is alleged that on 01\n",
            "July 06. at approximately 1445 hours. at tho location of 0 Miguel Cabratea #10? . start the complainant's\n",
            "ielt wrist excessively, and 2) directed profanities at her.\n",
            "ITIONAL ACCUSED. COMPLAINANTS, VICTIMS. WITNESSES.\n",
            "LAD. LOCATION \n",
            "01 Food SalesIResIauranl\n",
            "02 TavernlLIquor Store\n",
            "03 Other Businuss Eslablishmanl\n",
            "04 Police Building\n",
            "05 Lockun Facility\n",
            "08 POIICB Maintenance FacilIty\n",
            "CPD Automotive Pound Facility\n",
            "08 Police Property\n",
            "09 Police Communications System\n",
            "1?0 _Couri Room\n",
            "I.A.D. PHYSICAL CONDITION CODES\n",
            "11 Public Transportation Val-I lFacilIIy 01 Na Visibln Injury - Apparently Normal\n",
            "12 Park Property 02 Na Visible Injury - Under Influence\n",
            "Airport 03 Injured. Nat Hospitalizad\n",
            "14 Public Property - Other 04 Injured. Not Hospitalized - Under In?uence\n",
            "15 Olhar Private Premise 05 Injured. Hospitalized\n",
            "16 System 06 Injured. Hospitalized - Under In?uence\n",
            "17 Public Way - Other 07 Inlured. Raiucod Medical Aid\n",
            "18 Walerway. Incl. Park District DB Inlumd. Relusad Medical Aid - Under Inl'Iuanca\n",
            "19 PrIvaIa Residence 09 Deceased\n",
            "I0 Deceased Under In?uence\n",
            "CPD MEMBER. LIST RANK, STAR. SOCIAL SECURITY. EMPLOYEE NOS IN ADDRESS BOX. PAXIBELL IN TELEPHONE BOX.\n",
            "-\n",
            "GR. No. 31 3931\n",
            "4?h?n2?l-7n\n",
            "ur I'ln?li? taprove or disprove Ihe Britt?amine support SIR-snot\n",
            "Brieliy summarize the investigation attempting yo\n",
            "support the allegations(s). .\n",
            "In sustained cases ONLY, copies of the accused memberas Summary of Previous Disciplinary Actions and Record of Previous Complimentary History erI\n",
            "be included as attachments.\n",
            "The initiation report of Sgt. Allen #2480 stated that the com plainant,? was injured by an unknown police\n",
            "officer. She told Sgt. Alien that the accused twisted her wrist until it poppe and aced her in handcuffs. (Alt. 2)\n",
            "In an authenticated, in-person interview, the complainanmat offi need to her residence\n",
            "because of a domestic dispute. When she went downstairs 0 re nev keys.%ome of her\n",
            "friends became involved in a verbal altercation In front of officers. PO walked up to her and stated \"Shut the fuck\n",
            "Lip.\" PO Cabrales then grabbed her left arm and excessively twisted it. Was placed In handcuffs and taken to the\n",
            "district station. (Alt. 4)\n",
            "The medical records of Michael Reese Hospital indicates that on (11 July 06 at 0233 hours, was treated for left arm\n",
            "pain. She told hospital personnel her injury was caused by the police. The diagnosis of injury was left arm pain and a\n",
            "sprain. (Att. 6. 19)\n",
            "The Evidence Technician photos were taken of the complainant. (Att. 13a-13j)\n",
            "The Department Reports indicate the-was arrested for Simple Assault. (Att. 8)\n",
            "Attempts to contac-in furtherance of this investigation were negative. (Att. 15. 16)\n",
            "In a TolFrom Report from P0 Steven Bosch #13164 stated that he went upstairs and w?earti yelling, he stepped\n",
            "outside. PO Busch observed in handcuffs and in the back seat of the squad car. omplained of her arrest\n",
            "while in the car and requested OPS on the scene. (Alt. \n",
            "antinued on'F?ngt: 3_ . f;\n",
            "PHYSICAL EVIDENC\n",
            "INVESTIGATIVE REPORTS- INVESTIGATIVE TDTAL NUMBER OF ATTACHMENTS\n",
            "SUPPORTING ALLEGATION SUPPORTING ACCUSED MEMBERIS) ET Photo: SUBMITTED WITH THIS FILE:\n",
            "LIST ATTACHMENT NUMBERS: LIST ATTACHMENT NUMBERS: LIST ATTACHMENT NUMBERS:\n",
            "1. 4 27,30,133, 39 13a-131, 19 41\n",
            "FINDINGS-RECOMMENDATIONS\n",
            "Summarize the findings and recommendallons. Rule violations will be cited by number only. One overall recommendation for Disciplinary Action will be\n",
            "made by the investigator. The recommendation will be for ALL sustained ?ndings: recommendations will NOT be made for each sustained allegation.\n",
            "Example: 1- Violation noted. no disciplinary action warranted. 2. That the accused member be reprimanded. 3. That the accused member be suspended\n",
            "for days (not to exceed 5 days).\n",
            "FINDINGS:\n",
            "PO Miguel Cabrales #10719\n",
            "Not Sustained\n",
            "Accused\n",
            "Allegations 1?2\n",
            "313931\n",
            "INITIATED was mm? (LIME-tilts? uwr m: mat \n",
            "RECEIVED FOR new 92 Days\n",
            "01 July 06 10 Oct. 06\n",
            "OFFICE OF PROFESSIONAL STANDARDS Page 3\n",
            "C. R. #313931\n",
            "INVESTIGATION: (Continued) .\n",
            "In a TofFrom Report from her Beluso #3345, he stated that he observed PD Cabrales la to art escort hold\n",
            "and placed her in handcuffs. as combative and uncooperative. P0 Beluso did not hea compa of injury. (Att.\n",
            "30)\n",
            "In a TorFrom Report from P0 Kelly McBride #6810. she stated that she heard PO Cabrales explain the eharges tc-and then\n",
            "observed him place her In handcuffs. PO McBride describe-as argumentative. belligerent and disrespectful. P0 McBride\n",
            "slated that PO Cabrales used proper techniques and that he did not twist her wrists or use profanity. (hit. 33}\n",
            "in a TofFrom Report from PC) Miguel Cabrales #10719 stated that he obsewed-eiling profanities and making threats to\n",
            "females on the street-an downstairs and attempted to make good on her throat. PO Cabrales turned her around. placed\n",
            "her in custody using proper handcuffing techniques. He denied the allegations. (Att. 39)\n",
            "CONCLUSION:\n",
            "Allegations 1 thru 2 - Not Sustained: The complainant?Md not fully cooperate with this inuesligatioo in thatshe did\n",
            "not view photos or let her children cooperate. Although she obtaine medical treatment for pain to her left arm and a sprain.\n",
            "without her full cooperation and cooperation from the witness. this investigation revealed Insufficient evidenw to prove or \n",
            "the allegations. and therefore the recommends that the allegations be classified as Not Sustained.\n",
            "Tag: CR\n"
          ],
          "name": "stdout"
        }
      ]
    },
    {
      "cell_type": "code",
      "metadata": {
        "id": "zVjL7QBiY1JP",
        "colab_type": "code",
        "outputId": "66839d71-b6be-43c5-b3fc-01b32f528053",
        "colab": {
          "base_uri": "https://localhost:8080/",
          "height": 51
        }
      },
      "source": [
        "nltk.download('stopwords')\n",
        "#nltk.download('punkt')\n",
        "REPLACE_BY_SPACE_RE = re.compile('[/(){}\\[\\]\\|@,;]')\n",
        "BAD_SYMBOLS_RE = re.compile('[^0-9a-z #+_]')\n",
        "STOPWORDS = set(stopwords.words('english'))\n",
        "#PUNKWORDS = set(punkt.words('english'))\n",
        "own_set=['_', '#', 'january', 'februay', 'march', 'april', 'may', 'june', 'july', 'august', 'september', 'october', 'november', 'december', 'to', 't0', 'of', '0f', 'about'];\n",
        "\n",
        "def clean_text(text):\n",
        "    \"\"\"\n",
        "        text: a string\n",
        "        \n",
        "        return: modified initial string\n",
        "    \"\"\"\n",
        "    #text = BeautifulSoup(text, \"lxml\").text # HTML decoding\n",
        "    text = text.lower() # lowercase text\n",
        "    text = REPLACE_BY_SPACE_RE.sub(' ', text) # replace REPLACE_BY_SPACE_RE symbols by space in text\n",
        "    text = BAD_SYMBOLS_RE.sub('', text) # delete symbols which are in BAD_SYMBOLS_RE from text\n",
        "    text = ' '.join(word for word in text.split() if word not in STOPWORDS) # delete stopwors from text    \n",
        "    text = ' '.join(word for word in text.split() if word not in own_set)\n",
        "    text = ''.join(word for word in text if word not in own_set)\n",
        "    text = ''.join([i for i in text if not i.isdigit()]) \n",
        "    \n",
        "    text = re.sub(\"\\s\\s+\" , \" \", text)    \n",
        "    return text"
      ],
      "execution_count": 4,
      "outputs": [
        {
          "output_type": "stream",
          "text": [
            "[nltk_data] Downloading package stopwords to /root/nltk_data...\n",
            "[nltk_data]   Unzipping corpora/stopwords.zip.\n"
          ],
          "name": "stdout"
        }
      ]
    },
    {
      "cell_type": "code",
      "metadata": {
        "id": "VH-u4HE3ZmGg",
        "colab_type": "code",
        "colab": {}
      },
      "source": [
        "#from bs4 import BeautifulSoup\n",
        "\n",
        "data['text_content'] = data['text_content'].apply(clean_text)"
      ],
      "execution_count": 0,
      "outputs": []
    },
    {
      "cell_type": "code",
      "metadata": {
        "id": "Cm0iutV7a5Y3",
        "colab_type": "code",
        "outputId": "39169722-e30d-4b89-aae4-11901674ef90",
        "colab": {
          "base_uri": "https://localhost:8080/",
          "height": 71
        }
      },
      "source": [
        "print_plot(12)"
      ],
      "execution_count": 8,
      "outputs": [
        {
          "output_type": "stream",
          "text": [
            "sum mary report date report idaymo complaint register investigation chicago police department used cases classliled either exonerated unfounded sustained cases wherethe inary recommendation notexcead five days suspensionsubmit original copies assigned unit accusedsubmit original copies assigned unit accusedto superintendent policeattention administrator charge office professional standardsassistant deputy superintendent internal affairs divisionrank star social sec irnriimon ivazquez aurora lnv iihi date hrs nm nmx star nu social secno imir assigii cabrales miguel po date appointment duty status time incidenti sworn dec duty duty civilian code duty l duty tl swarm civilianw charges court branch rmte a crrr smie telephone corifl o city state telephone sexjrage dob teen rocecity state sexirace conoa edoesee attached sheet adda legationson hours sgt etna lotionhoned ollico promiaiunal registered thiscomplaint behalf nile lisa iousanl emp ii alleged july approximately hours tho location miguel cabratea start complainantsielt wrist excessively directed profanities heritional accused complainants victims witnesseslad location food salesiresiauranl tavernlliquor store businuss eslablishmanl police building lockun facility poiicb maintenance facilitycpd automotive pound facility police property police communications system couri roomiad physical condition codes public transportation vali lfaciliiy na visibln injury apparently normal park property na visible injury influenceairport injured nat hospitalizad public property injured hospitalized inuence olhar private premise injured hospitalized system injured hospitalized inuence public way inlured raiucod medical aid walerway incl park district db inlumd relusad medical aid inliuanca privaia residence deceasedi deceased inuencecpd member list rank star social security employee nos address box paxibell telephone boxgr hnlnur ilnli taprove disprove ihe brittamine support sirsnotbrieliy summarize investigation attempting yosupport allegations sustained cases copies accused memberas summary previous disciplinary actions record previous complimentary history eribe included attachmentsthe initiation report sgt allen stated com plainant injured unknown policeofficer told sgt alien accused twisted wrist poppe aced handcuffs alt authenticated inperson interview complainanmat offi need residencebecause domestic dispute went downstairs nev keysome herfriends became involved verbal altercation front officers po walked stated shut fucklip po cabrales grabbed left arm excessively twisted placed handcuffs taken thedistrict station alt medical records michael reese hospital indicates hours treated left armpain told hospital personnel injury caused police diagnosis injury left arm pain asprain att evidence technician photos taken complainant att aj department reports indicate thewas arrested simple assault att attempts contacin furtherance investigation negative att tolfrom report p steven bosch stated went upstairs wearti yelling steppedoutside po busch observed handcuffs back seat squad car omplained arrestwhile car requested ops scene alt antinued onfngt f physical evidencinvestigative reports investigative tdtal number attachmentssupporting allegation supporting accused memberis et photo submitted filelist attachment numbers list attachment numbers list attachment numbers a findingsrecommendationssummarize findings recommendallons rule violations cited number one overall recommendation disciplinary action bemade investigator recommendation sustained ndings recommendations made sustained allegationexample violation noted disciplinary action warranted accused member reprimanded accused member suspendedfor days exceed days findingspo miguel cabrales not sustainedaccusedallegations initiated mm limetilts uwr mat received new days oct office professional standards page c r investigation continued toffrom report beluso stated observed pd cabrales la art escort holdand placed handcuffs combative uncooperative p beluso hea compa injury att torfrom report p kelly mcbride stated heard po cabrales explain eharges tcand thenobserved place handcuffs po mcbride describeas argumentative belligerent disrespectful p mcbrideslated po cabrales used proper techniques twist wrists use profanity hit toffrom report pc miguel cabrales stated obsewedeiling profanities making threats tofemales streetan downstairs attempted make good throat po cabrales turned around placedher custody using proper handcuffing techniques denied allegations att conclusionallegations thru sustained complainantmd fully cooperate inuesligatioo thatshe didnot view photos let children cooperate although obtaine medical treatment pain left arm sprainwithout full cooperation cooperation witness investigation revealed insufficient evidenw prove allegations therefore recommends allegations classified sustained\n",
            "Tag: CR\n"
          ],
          "name": "stdout"
        }
      ]
    },
    {
      "cell_type": "code",
      "metadata": {
        "id": "a8mqC-PvkjEN",
        "colab_type": "code",
        "colab": {}
      },
      "source": [
        "X = data.text_content\n",
        "y = data.tag\n",
        "X_train, X_test, y_train, y_test = train_test_split(X, y, test_size=0.3, random_state = 42)"
      ],
      "execution_count": 0,
      "outputs": []
    },
    {
      "cell_type": "markdown",
      "metadata": {
        "id": "Q8hgjIBuuEov",
        "colab_type": "text"
      },
      "source": [
        "## Naive Bayes classifier for multinomial models"
      ]
    },
    {
      "cell_type": "code",
      "metadata": {
        "id": "6nrRzZaGrfTh",
        "colab_type": "code",
        "colab": {}
      },
      "source": [
        "from sklearn.naive_bayes import MultinomialNB\n",
        "from sklearn.pipeline import Pipeline\n",
        "from sklearn.feature_extraction.text import TfidfTransformer\n",
        "import pickle\n",
        "\n",
        "nb = Pipeline([('vect', CountVectorizer()),\n",
        "               ('tfidf', TfidfTransformer()),\n",
        "               ('clf', MultinomialNB()),\n",
        "              ])\n",
        "nb.fit(X_train, y_train)\n",
        "\n",
        "# save the model to disk\n",
        "filename = '/content/drive/My Drive/invisible_institute/nb_CPDP_model.sav'\n",
        "pickle.dump(nb, open(filename, 'wb'))"
      ],
      "execution_count": 0,
      "outputs": []
    },
    {
      "cell_type": "code",
      "metadata": {
        "id": "-e7r-bzKruZi",
        "colab_type": "code",
        "outputId": "e9de238a-9cfe-4c66-8dff-6530e467bd00",
        "colab": {
          "base_uri": "https://localhost:8080/",
          "height": 221
        }
      },
      "source": [
        "%%time\n",
        "my_tags = ['CR', 'CPB']\n",
        "from sklearn.metrics import classification_report\n",
        "y_pred = nb.predict(X_test)\n",
        "\n",
        "print('accuracy %s' % accuracy_score(y_pred, y_test))\n",
        "print(classification_report(y_test, y_pred,target_names=my_tags))"
      ],
      "execution_count": 11,
      "outputs": [
        {
          "output_type": "stream",
          "text": [
            "accuracy 0.9262899262899262\n",
            "              precision    recall  f1-score   support\n",
            "\n",
            "          CR       1.00      0.14      0.25        35\n",
            "         CPB       0.93      1.00      0.96       372\n",
            "\n",
            "    accuracy                           0.93       407\n",
            "   macro avg       0.96      0.57      0.61       407\n",
            "weighted avg       0.93      0.93      0.90       407\n",
            "\n",
            "CPU times: user 439 ms, sys: 3.1 ms, total: 442 ms\n",
            "Wall time: 449 ms\n"
          ],
          "name": "stdout"
        }
      ]
    },
    {
      "cell_type": "markdown",
      "metadata": {
        "id": "XJdiDOfouYAI",
        "colab_type": "text"
      },
      "source": [
        "## Logistic regression"
      ]
    },
    {
      "cell_type": "code",
      "metadata": {
        "id": "wbFT1_lDsuOw",
        "colab_type": "code",
        "outputId": "915852a1-e9bb-4615-c89a-8408826ed40e",
        "colab": {
          "base_uri": "https://localhost:8080/",
          "height": 51
        }
      },
      "source": [
        "from sklearn.linear_model import LogisticRegression\n",
        "import pickle\n",
        "\n",
        "logreg = Pipeline([('vect', CountVectorizer()),\n",
        "                ('tfidf', TfidfTransformer()),\n",
        "                ('clf', LogisticRegression(n_jobs=1, C=1e5)),\n",
        "               ])\n",
        "logreg.fit(X_train, y_train)\n",
        "\n",
        "# save the model to disk\n",
        "filename = '/content/drive/My Drive/invisible_institute/logreg_CPDP_model.sav'\n",
        "pickle.dump(logreg, open(filename, 'wb'))"
      ],
      "execution_count": 12,
      "outputs": [
        {
          "output_type": "stream",
          "text": [
            "/usr/local/lib/python3.6/dist-packages/sklearn/linear_model/logistic.py:432: FutureWarning: Default solver will be changed to 'lbfgs' in 0.22. Specify a solver to silence this warning.\n",
            "  FutureWarning)\n"
          ],
          "name": "stderr"
        }
      ]
    },
    {
      "cell_type": "code",
      "metadata": {
        "id": "gchfTewns0Ja",
        "colab_type": "code",
        "outputId": "e0dc899b-b8ec-48a8-db44-d283e4e6aa0c",
        "colab": {
          "base_uri": "https://localhost:8080/",
          "height": 221
        }
      },
      "source": [
        "%%time\n",
        "\n",
        "y_pred = logreg.predict(X_test)\n",
        "\n",
        "print('accuracy %s' % accuracy_score(y_pred, y_test))\n",
        "print(classification_report(y_test, y_pred,target_names=my_tags))"
      ],
      "execution_count": 13,
      "outputs": [
        {
          "output_type": "stream",
          "text": [
            "accuracy 1.0\n",
            "              precision    recall  f1-score   support\n",
            "\n",
            "          CR       1.00      1.00      1.00        35\n",
            "         CPB       1.00      1.00      1.00       372\n",
            "\n",
            "    accuracy                           1.00       407\n",
            "   macro avg       1.00      1.00      1.00       407\n",
            "weighted avg       1.00      1.00      1.00       407\n",
            "\n",
            "CPU times: user 435 ms, sys: 423 µs, total: 436 ms\n",
            "Wall time: 437 ms\n"
          ],
          "name": "stdout"
        }
      ]
    },
    {
      "cell_type": "markdown",
      "metadata": {
        "id": "NKg8TQHzvYPZ",
        "colab_type": "text"
      },
      "source": [
        "## Linear support vector machine"
      ]
    },
    {
      "cell_type": "code",
      "metadata": {
        "id": "D073nw0XvNZK",
        "colab_type": "code",
        "colab": {}
      },
      "source": [
        "from sklearn.linear_model import SGDClassifier\n",
        "import pickle\n",
        "\n",
        "sgd = Pipeline([('vect', CountVectorizer()),\n",
        "                ('tfidf', TfidfTransformer()),\n",
        "                ('clf', SGDClassifier(loss='hinge', penalty='l2',alpha=1e-3, random_state=42, max_iter=5, tol=None)),\n",
        "               ])\n",
        "sgd.fit(X_train, y_train)\n",
        "\n",
        "# save the model to disk\n",
        "filename = '/content/drive/My Drive/invisible_institute/sgd_CPDP_model.sav'\n",
        "pickle.dump(sgd, open(filename, 'wb'))"
      ],
      "execution_count": 0,
      "outputs": []
    },
    {
      "cell_type": "code",
      "metadata": {
        "id": "rBFX8NLIvTY4",
        "colab_type": "code",
        "outputId": "3eb78cda-aee2-4a9e-a3d1-98954a8347b3",
        "colab": {
          "base_uri": "https://localhost:8080/",
          "height": 221
        }
      },
      "source": [
        "%%time\n",
        "\n",
        "y_pred = sgd.predict(X_test)\n",
        "\n",
        "print('accuracy %s' % accuracy_score(y_pred, y_test))\n",
        "print(classification_report(y_test, y_pred,target_names=my_tags))"
      ],
      "execution_count": 15,
      "outputs": [
        {
          "output_type": "stream",
          "text": [
            "accuracy 1.0\n",
            "              precision    recall  f1-score   support\n",
            "\n",
            "          CR       1.00      1.00      1.00        35\n",
            "         CPB       1.00      1.00      1.00       372\n",
            "\n",
            "    accuracy                           1.00       407\n",
            "   macro avg       1.00      1.00      1.00       407\n",
            "weighted avg       1.00      1.00      1.00       407\n",
            "\n",
            "CPU times: user 438 ms, sys: 433 µs, total: 439 ms\n",
            "Wall time: 440 ms\n"
          ],
          "name": "stdout"
        }
      ]
    },
    {
      "cell_type": "code",
      "metadata": {
        "id": "MnqL6LPm7Lu7",
        "colab_type": "code",
        "colab": {
          "base_uri": "https://localhost:8080/",
          "height": 34
        },
        "outputId": "a640a2d6-a550-4751-9544-4ca0cb94682e"
      },
      "source": [
        "# load the model from disk\n",
        "loaded_model = pickle.load(open(filename, 'rb'))\n",
        "result = loaded_model.score(X_test, y_test)\n",
        "print(result)"
      ],
      "execution_count": 16,
      "outputs": [
        {
          "output_type": "stream",
          "text": [
            "1.0\n"
          ],
          "name": "stdout"
        }
      ]
    },
    {
      "cell_type": "markdown",
      "metadata": {
        "id": "7vOyOcrFvfpD",
        "colab_type": "text"
      },
      "source": [
        "## End\n"
      ]
    }
  ]
}